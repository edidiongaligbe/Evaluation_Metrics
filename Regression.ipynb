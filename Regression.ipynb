{
 "cells": [
  {
   "attachments": {},
   "cell_type": "markdown",
   "metadata": {},
   "source": [
    "## Introduction\n",
    "\n",
    "This notebook contains code on a simple linear regression problem.\n",
    "\n",
    "### Data\n",
    "The data used in this simple illustration contains information about used cars and motorcycles listed on CarDekho.com.  The data is in a CSV file and it includes columns such as model, year, selling price, showroom price, kilometers driven, fuel type, seller type, transmission and number of previous owners. Here is a link to the [data](https://www.kaggle.com/datasets/nehalbirla/vehicle-dataset-from-cardekho).\n",
    "\n",
    "We will use this data to predict the selling price of used vehicles."
   ]
  }
 ],
 "metadata": {
  "kernelspec": {
   "display_name": "ml-env",
   "language": "python",
   "name": "python3"
  },
  "language_info": {
   "name": "python",
   "version": "3.10.9"
  },
  "orig_nbformat": 4
 },
 "nbformat": 4,
 "nbformat_minor": 2
}
